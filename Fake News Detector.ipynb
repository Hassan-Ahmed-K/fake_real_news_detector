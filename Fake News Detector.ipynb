{
 "cells": [
  {
   "cell_type": "markdown",
   "id": "92a5a3ae-eab9-40ae-8770-500d454c5efd",
   "metadata": {},
   "source": [
    "## Importing Modules and Liberaries"
   ]
  },
  {
   "cell_type": "code",
   "execution_count": 1,
   "id": "e04a3934-97b6-4ebd-90e8-84b241e5c517",
   "metadata": {},
   "outputs": [
    {
     "name": "stderr",
     "output_type": "stream",
     "text": [
      "2024-07-26 18:29:21.025030: I external/local_tsl/tsl/cuda/cudart_stub.cc:31] Could not find cuda drivers on your machine, GPU will not be used.\n",
      "2024-07-26 18:29:21.088168: E external/local_xla/xla/stream_executor/cuda/cuda_dnn.cc:9261] Unable to register cuDNN factory: Attempting to register factory for plugin cuDNN when one has already been registered\n",
      "2024-07-26 18:29:21.088214: E external/local_xla/xla/stream_executor/cuda/cuda_fft.cc:607] Unable to register cuFFT factory: Attempting to register factory for plugin cuFFT when one has already been registered\n",
      "2024-07-26 18:29:21.089819: E external/local_xla/xla/stream_executor/cuda/cuda_blas.cc:1515] Unable to register cuBLAS factory: Attempting to register factory for plugin cuBLAS when one has already been registered\n",
      "2024-07-26 18:29:21.098957: I external/local_tsl/tsl/cuda/cudart_stub.cc:31] Could not find cuda drivers on your machine, GPU will not be used.\n",
      "2024-07-26 18:29:21.099482: I tensorflow/core/platform/cpu_feature_guard.cc:182] This TensorFlow binary is optimized to use available CPU instructions in performance-critical operations.\n",
      "To enable the following instructions: AVX2 FMA, in other operations, rebuild TensorFlow with the appropriate compiler flags.\n",
      "2024-07-26 18:29:22.608609: W tensorflow/compiler/tf2tensorrt/utils/py_utils.cc:38] TF-TRT Warning: Could not find TensorRT\n"
     ]
    }
   ],
   "source": [
    "import pandas as pd\n",
    "import numpy as np\n",
    "import random\n",
    "import string\n",
    "import nltk\n",
    "from nltk.stem import PorterStemmer, WordNetLemmatizer\n",
    "from nltk.corpus import stopwords\n",
    "from nltk.tokenize import word_tokenize, sent_tokenize\n",
    "from tensorflow.keras.preprocessing.text import Tokenizer\n",
    "from tensorflow.keras import regularizers,optimizers,models,layers\n",
    "from tensorflow.keras.preprocessing.sequence import pad_sequences\n",
    "from tensorflow.keras.callbacks import ModelCheckpoint,EarlyStopping,ReduceLROnPlateau\n",
    "import matplotlib.pyplot as plt"
   ]
  },
  {
   "cell_type": "markdown",
   "id": "e8962148-f937-4144-864a-7bddf379c059",
   "metadata": {},
   "source": [
    "## Loading Data"
   ]
  },
  {
   "cell_type": "code",
   "execution_count": 2,
   "id": "4b4a7987-36ed-4707-a235-9496ff20d677",
   "metadata": {},
   "outputs": [],
   "source": [
    "base_dir = \"news_articles.csv\"\n",
    "data = pd.read_csv(base_dir)\n",
    "shuffle = data.values.tolist()\n",
    "random.shuffle(shuffle)\n",
    "data = pd.DataFrame(shuffle,columns=data.columns)"
   ]
  },
  {
   "cell_type": "markdown",
   "id": "6581783f-b80d-47b7-9dc9-310a59c9ed51",
   "metadata": {},
   "source": [
    "## Preprocessing Data"
   ]
  },
  {
   "cell_type": "code",
   "execution_count": 3,
   "id": "cf904465-94cb-4695-ab5e-e85847ab1ca0",
   "metadata": {},
   "outputs": [
    {
     "name": "stdout",
     "output_type": "stream",
     "text": [
      "          author                      published  \\\n",
      "0      Anonymous  2016-10-29T22:36:00.000+03:00   \n",
      "1  Mikael Thalen  2016-10-29T13:10:13.738+03:00   \n",
      "2      No Author  2016-10-27T01:27:23.314+03:00   \n",
      "3      No Author  2016-11-14T01:54:13.190+02:00   \n",
      "4      No Author  2016-10-27T05:55:35.956+03:00   \n",
      "\n",
      "                                               title  \\\n",
      "0                                           no title   \n",
      "1            world community fears hillary kill list   \n",
      "2                 are tensions with russia even real   \n",
      "3  people arrested for food stamp fraud guess how...   \n",
      "4                iranian products on display in kiev   \n",
      "\n",
      "                                                text language  \\\n",
      "0  the second video bottom one  proves what trump...  english   \n",
      "1  votes being switched in multiple states to cli...  english   \n",
      "2  part  mother  child worship httpswwwyoutubecom...  english   \n",
      "3  on november    pm  \\nit was just a few days ag...  english   \n",
      "4  iran raps rare eu clauses in trade deals fri o...  english   \n",
      "\n",
      "            site_url                                       main_img_url  \\\n",
      "0     abeldanger.net                                       No Image URL   \n",
      "1       infowars.com  http://hw.infowars.com/wp-content/uploads/2016...   \n",
      "2   prisonplanet.com                                       No Image URL   \n",
      "3  addictinginfo.org  http://addictinginfo.addictinginfoent.netdna-c...   \n",
      "4         presstv.ir  http://media.presstv.com/photo/20161027/e7f303...   \n",
      "\n",
      "         type label                            title_without_stopwords  \\\n",
      "0          bs  Fake                                              title   \n",
      "1  conspiracy  Fake  audio emerges hillary clinton proposing riggin...   \n",
      "2  conspiracy  Fake         us stuck nobody left sanction russia syria   \n",
      "3        bias  Real  people arrested food stamp fraud guess many black   \n",
      "4       state  Real  indian princess watches rare paleontological r...   \n",
      "\n",
      "                              text_without_stopwords  hasImage  \n",
      "0  second video bottom one proves trump sayng tru...       0.0  \n",
      "1  share many reasons americans vote hillary clin...       1.0  \n",
      "2  part mary worship httpswwwyoutubecomwatchvixwwouu       0.0  \n",
      "3  november pm days ago bernie sanders responded ...       1.0  \n",
      "4  eu refugees wait disembark ship october palerm...       1.0  \n"
     ]
    }
   ],
   "source": [
    "print(data.head())"
   ]
  },
  {
   "cell_type": "code",
   "execution_count": 4,
   "id": "d744f4b1-b7f5-45b4-96a5-1fadf633d6ce",
   "metadata": {},
   "outputs": [
    {
     "data": {
      "text/plain": [
       "author                      0\n",
       "published                   0\n",
       "title                       0\n",
       "text                       46\n",
       "language                    1\n",
       "site_url                    1\n",
       "main_img_url                1\n",
       "type                        1\n",
       "label                       1\n",
       "title_without_stopwords     2\n",
       "text_without_stopwords     50\n",
       "hasImage                    1\n",
       "dtype: int64"
      ]
     },
     "execution_count": 4,
     "metadata": {},
     "output_type": "execute_result"
    }
   ],
   "source": [
    "data.isna().sum()"
   ]
  },
  {
   "cell_type": "code",
   "execution_count": 5,
   "id": "3c50326d-beea-4758-988b-624c653f35b7",
   "metadata": {},
   "outputs": [],
   "source": [
    "data = data.dropna(subset=['label'])"
   ]
  },
  {
   "cell_type": "code",
   "execution_count": 6,
   "id": "51b473f7-f59b-47a6-a42a-2679cac9f7f7",
   "metadata": {},
   "outputs": [
    {
     "data": {
      "text/plain": [
       "author                      0\n",
       "published                   0\n",
       "title                       0\n",
       "text                       45\n",
       "language                    0\n",
       "site_url                    0\n",
       "main_img_url                0\n",
       "type                        0\n",
       "label                       0\n",
       "title_without_stopwords     1\n",
       "text_without_stopwords     49\n",
       "hasImage                    0\n",
       "dtype: int64"
      ]
     },
     "execution_count": 6,
     "metadata": {},
     "output_type": "execute_result"
    }
   ],
   "source": [
    "data.isna().sum()"
   ]
  },
  {
   "cell_type": "code",
   "execution_count": 7,
   "id": "52a5ef2e-cfcc-4b4e-9b42-600d6693660c",
   "metadata": {},
   "outputs": [],
   "source": [
    "data = data.fillna(\"\")"
   ]
  },
  {
   "cell_type": "code",
   "execution_count": 8,
   "id": "7c21413c-856d-4c7a-9b33-be0662cd1e8e",
   "metadata": {},
   "outputs": [
    {
     "data": {
      "text/plain": [
       "author                     0\n",
       "published                  0\n",
       "title                      0\n",
       "text                       0\n",
       "language                   0\n",
       "site_url                   0\n",
       "main_img_url               0\n",
       "type                       0\n",
       "label                      0\n",
       "title_without_stopwords    0\n",
       "text_without_stopwords     0\n",
       "hasImage                   0\n",
       "dtype: int64"
      ]
     },
     "execution_count": 8,
     "metadata": {},
     "output_type": "execute_result"
    }
   ],
   "source": [
    "data.isna().sum()"
   ]
  },
  {
   "cell_type": "code",
   "execution_count": 9,
   "id": "daedbec6-5772-434c-8dd9-59cc4c6ab2dc",
   "metadata": {},
   "outputs": [
    {
     "name": "stderr",
     "output_type": "stream",
     "text": [
      "[nltk_data] Downloading package stopwords to /home/hassan-ahmed-\n",
      "[nltk_data]     khan/nltk_data...\n",
      "[nltk_data]   Package stopwords is already up-to-date!\n",
      "[nltk_data] Downloading package wordnet to /home/hassan-ahmed-\n",
      "[nltk_data]     khan/nltk_data...\n",
      "[nltk_data]   Package wordnet is already up-to-date!\n"
     ]
    }
   ],
   "source": [
    "nltk.download('stopwords')\n",
    "nltk.download('wordnet')\n",
    "\n",
    "# Initialize global stopwords and lemmatizer\n",
    "\n",
    "\n",
    "\n",
    "\n",
    "def stem_text(text):\n",
    "    stemmer = PorterStemmer()\n",
    "    words = text.split(\" \")\n",
    "    refined_text = \" \".join(stemmer.stem(word) for word in words)\n",
    "    return refined_text\n",
    "    \n",
    "def remove_stopwords(text):\n",
    "    stop_words = set(stopwords.words('english'))\n",
    "    words = text.split()\n",
    "    refined_text = \" \".join(word for word in words if word.lower() not in stop_words)\n",
    "    return refined_text\n",
    "    \n",
    "def lemmatize_text(corpus):\n",
    "    lemmatizer = WordNetLemmatizer()\n",
    "    lemmatized_corpus = []\n",
    "\n",
    "    for sentence in corpus:\n",
    "        refined_text = \"\"\n",
    "        words = sentence.split(\" \")\n",
    "        for word in words:\n",
    "            refined_text += lemmatizer.lemmatize(word) + \" \"\n",
    "        lemmatized_corpus.append(refined_text.strip())\n",
    "\n",
    "    return lemmatized_corpus\n",
    "\n",
    "def preprocess_text(reviews):\n",
    "    punctuation = string.punctuation\n",
    "    corpus = []\n",
    "\n",
    "    for review in reviews:\n",
    "        review = review.replace('<br />', '')\n",
    "\n",
    "        refined_text = ''\n",
    "        \n",
    "        for char in review:\n",
    "            if char not in punctuation:\n",
    "                refined_text += char\n",
    "\n",
    "        corpus.append(refined_text)\n",
    "\n",
    "    return corpus\n"
   ]
  },
  {
   "cell_type": "code",
   "execution_count": 10,
   "id": "b530d9c2-1be1-4a11-b499-895960f978bc",
   "metadata": {},
   "outputs": [],
   "source": [
    "data[\"title\"] = preprocess_text(data[\"title\"].tolist())\n",
    "\n",
    "data[\"title\"] = data[\"title\"].apply(remove_stopwords)\n",
    "\n",
    "data[\"title\"] = data[\"title\"].apply(stem_text)\n",
    "\n",
    "lemmatized_corpus = lemmatize_text(data[\"title\"].tolist())\n",
    "data[\"title\"] = lemmatized_corpus\n",
    "\n",
    "\n",
    "\n",
    "data[\"text\"] = preprocess_text(data[\"text\"].tolist())\n",
    "\n",
    "data[\"text\"] = data[\"text\"].apply(remove_stopwords)\n",
    "\n",
    "data[\"text\"] = data[\"text\"].apply(stem_text)\n",
    "\n",
    "lemmatized_corpus = lemmatize_text(data[\"text\"].tolist())\n",
    "data[\"text\"] = lemmatized_corpus\n",
    "\n"
   ]
  },
  {
   "cell_type": "code",
   "execution_count": 11,
   "id": "930c1a69-1109-48a5-a239-d4ae30c57ec8",
   "metadata": {},
   "outputs": [],
   "source": [
    "columns = ['author', 'title', 'text', 'language', 'site_url']\n",
    "data['combined_text'] = data[columns].apply(lambda row: ' '.join(str(value) for value in row if pd.notna(value)), axis=1)"
   ]
  },
  {
   "cell_type": "code",
   "execution_count": 12,
   "id": "d6f23c68-d59a-4556-afc1-9a6fdbf42dac",
   "metadata": {},
   "outputs": [
    {
     "name": "stdout",
     "output_type": "stream",
     "text": [
      "                                                   X  Y\n",
      "0  Anonymous titl second video bottom one prove t...  0\n",
      "1  Mikael Thalen world commun fear hillari kill l...  0\n",
      "2  No Author tension russia even real part mother...  0\n",
      "3  No Author peopl arrest food stamp fraud guess ...  1\n",
      "4  No Author iranian product display kiev iran ra...  1\n"
     ]
    }
   ],
   "source": [
    "\n",
    "X = data['combined_text'].tolist()\n",
    "Y = data['label'].map({\"Real\":1,\"Fake\":0}).tolist()\n",
    "\n",
    "df = pd.DataFrame({'X': X,'Y': Y})\n",
    "\n",
    "print(df.head())"
   ]
  },
  {
   "cell_type": "code",
   "execution_count": 13,
   "id": "e5b580e3-644a-4ae4-81b9-80fa46b8fbcb",
   "metadata": {},
   "outputs": [
    {
     "name": "stdout",
     "output_type": "stream",
     "text": [
      "                                                      X  Y  \\\n",
      "0     Anonymous titl second video bottom one prove t...  0   \n",
      "1     Mikael Thalen world commun fear hillari kill l...  0   \n",
      "2     No Author tension russia even real part mother...  0   \n",
      "3     No Author peopl arrest food stamp fraud guess ...  1   \n",
      "4     No Author iranian product display kiev iran ra...  1   \n",
      "...                                                 ... ..   \n",
      "2090  No Author obama slam trump rig elect claim dan...  0   \n",
      "2091  No Author debunk photo obama speech balloo cli...  0   \n",
      "2092  André du Pôle socal intellectu harm good socie...  1   \n",
      "2093  No Author babylon mysteri religion book httpww...  0   \n",
      "2094  No Author pour booster le vent dassault offr u...  0   \n",
      "\n",
      "                                         processed_text  \n",
      "0     [1950, 409, 337, 120, 2203, 4, 839, 2, 8707, 4...  \n",
      "1     [5380, 5381, 44, 184, 475, 5, 185, 459, 28, 74...  \n",
      "2     [132, 56, 2097, 117, 27, 255, 127, 1050, 143, ...  \n",
      "3     [132, 56, 7, 483, 130, 2975, 692, 1694, 45, 12...  \n",
      "4     [132, 56, 1176, 431, 1589, 5119, 415, 5629, 17...  \n",
      "...                                                 ...  \n",
      "2090  [132, 56, 33, 3016, 2, 429, 13, 108, 489, 22, ...  \n",
      "2091  [132, 56, 3668, 458, 33, 368, 1, 5245, 1506, 4...  \n",
      "2092  [5655, 1907, 8753, 1284, 1446, 1051, 102, 406,...  \n",
      "2093  [132, 56, 6737, 2298, 955, 315, 1, 2583, 120, ...  \n",
      "2094  [132, 56, 1984, 1, 173, 6863, 1, 1, 541, 1, 54...  \n",
      "\n",
      "[2095 rows x 3 columns]\n"
     ]
    }
   ],
   "source": [
    "max_features = 10000 \n",
    "max_len = 1000  \n",
    "trunc_type = 'post'  \n",
    "padding_type = 'post'  \n",
    "oov_tok = '<OOV>'  \n",
    "\n",
    "tokenizer = Tokenizer(num_words=max_features, oov_token=oov_tok)\n",
    "\n",
    "tokenizer.fit_on_texts(df['X'])\n",
    "\n",
    "sequences = tokenizer.texts_to_sequences(df['X'])\n",
    "\n",
    "padded_sequences = pad_sequences(sequences, maxlen=max_len, padding=padding_type, truncating=trunc_type)\n",
    "\n",
    "df['processed_text'] = list(padded_sequences)\n",
    "\n",
    "print(df)"
   ]
  },
  {
   "cell_type": "code",
   "execution_count": 14,
   "id": "38e57a28-6d26-4a5f-89b3-001b2cc9d561",
   "metadata": {},
   "outputs": [
    {
     "name": "stdout",
     "output_type": "stream",
     "text": [
      "0       [1950, 409, 337, 120, 2203, 4, 839, 2, 8707, 4...\n",
      "1       [5380, 5381, 44, 184, 475, 5, 185, 459, 28, 74...\n",
      "2       [132, 56, 2097, 117, 27, 255, 127, 1050, 143, ...\n",
      "3       [132, 56, 7, 483, 130, 2975, 692, 1694, 45, 12...\n",
      "4       [132, 56, 1176, 431, 1589, 5119, 415, 5629, 17...\n",
      "                              ...                        \n",
      "2090    [132, 56, 33, 3016, 2, 429, 13, 108, 489, 22, ...\n",
      "2091    [132, 56, 3668, 458, 33, 368, 1, 5245, 1506, 4...\n",
      "2092    [5655, 1907, 8753, 1284, 1446, 1051, 102, 406,...\n",
      "2093    [132, 56, 6737, 2298, 955, 315, 1, 2583, 120, ...\n",
      "2094    [132, 56, 1984, 1, 173, 6863, 1, 1, 541, 1, 54...\n",
      "Name: processed_text, Length: 2095, dtype: object\n"
     ]
    }
   ],
   "source": [
    "print(df['processed_text'])"
   ]
  },
  {
   "cell_type": "code",
   "execution_count": 15,
   "id": "92fec491-728c-4404-9cc7-6149f484223a",
   "metadata": {},
   "outputs": [
    {
     "name": "stdout",
     "output_type": "stream",
     "text": [
      "Found 34296 unique tokens.\n",
      "4255\n"
     ]
    }
   ],
   "source": [
    "word_index = tokenizer.word_index\n",
    "print('Found %s unique tokens.' % len(word_index))\n",
    "# print(len(sequence[0]))\n",
    "print(word_index['the'])"
   ]
  },
  {
   "cell_type": "code",
   "execution_count": 16,
   "id": "66360d3f-365f-4736-a401-4269a30f5701",
   "metadata": {},
   "outputs": [
    {
     "name": "stdout",
     "output_type": "stream",
     "text": [
      "1257\n",
      "419\n",
      "2095\n"
     ]
    }
   ],
   "source": [
    "# data = data[:len(data) - len(data) * 0.3]\n",
    "# x_val = data[:len(data) - len(data) * 0.3]\n",
    "train_data = df[:int(len(df) * 0.6)]\n",
    "valid_data = df[int(len(df) * 0.6):int(len(df) * 0.8)]\n",
    "test_data = df[int(len(df) * 0.8):]\n",
    "print(len(train_data))\n",
    "print(len(valid_data))\n",
    "print(len(data))"
   ]
  },
  {
   "cell_type": "code",
   "execution_count": 17,
   "id": "fa70c17a-d5cd-4669-9583-c9f4821baf54",
   "metadata": {},
   "outputs": [],
   "source": [
    "x_train = np.array(list(train_data['processed_text']))\n",
    "y_train = np.array(train_data['Y'])\n",
    "x_valid = np.array(list(valid_data['processed_text']))\n",
    "y_valid = np.array(valid_data['Y'])\n",
    "x_test = np.array(list(test_data['processed_text']))\n",
    "y_test = np.array(test_data['Y'])\n"
   ]
  },
  {
   "cell_type": "code",
   "execution_count": 18,
   "id": "a860dc7a-5f42-4b5f-9ff0-dddda99a8b30",
   "metadata": {},
   "outputs": [
    {
     "name": "stdout",
     "output_type": "stream",
     "text": [
      "(1257, 1000)\n",
      "(1257,)\n"
     ]
    }
   ],
   "source": [
    "print(x_train.shape)\n",
    "print(y_train.shape) "
   ]
  },
  {
   "cell_type": "markdown",
   "id": "ca45c241-ef6a-4bdf-892c-bcbb29c116c3",
   "metadata": {},
   "source": [
    "## Training Model"
   ]
  },
  {
   "cell_type": "code",
   "execution_count": 19,
   "id": "f9a77579-2d7a-476c-89f8-1c51c9866cae",
   "metadata": {},
   "outputs": [],
   "source": [
    "model = models.Sequential()\n",
    "model.add(layers.Embedding(10000,32,input_length=max_len))\n",
    "model.add(layers.Flatten())\n",
    "model.add(layers.Dense(1,activation='sigmoid'))\n",
    "\n",
    "model.compile(optimizer='rmsprop',loss='binary_crossentropy',metrics=['acc'])"
   ]
  },
  {
   "cell_type": "code",
   "execution_count": 20,
   "id": "6744a872-7a7c-4f37-b1e4-6348da7895c8",
   "metadata": {},
   "outputs": [
    {
     "name": "stdout",
     "output_type": "stream",
     "text": [
      "Epoch 1/20\n",
      "40/40 [==============================] - 1s 15ms/step - loss: 0.6616 - acc: 0.6126 - val_loss: 0.6481 - val_acc: 0.6110\n",
      "Epoch 2/20\n",
      "40/40 [==============================] - 0s 10ms/step - loss: 0.5873 - acc: 0.6818 - val_loss: 0.6169 - val_acc: 0.6181\n",
      "Epoch 3/20\n",
      "40/40 [==============================] - 0s 10ms/step - loss: 0.4910 - acc: 0.7940 - val_loss: 0.5732 - val_acc: 0.6659\n",
      "Epoch 4/20\n",
      "40/40 [==============================] - 0s 10ms/step - loss: 0.3759 - acc: 0.9165 - val_loss: 0.5215 - val_acc: 0.7232\n",
      "Epoch 5/20\n",
      "40/40 [==============================] - 0s 10ms/step - loss: 0.2687 - acc: 0.9634 - val_loss: 0.4477 - val_acc: 0.8043\n",
      "Epoch 6/20\n",
      "40/40 [==============================] - 0s 10ms/step - loss: 0.1835 - acc: 0.9865 - val_loss: 0.4091 - val_acc: 0.8043\n",
      "Epoch 7/20\n",
      "40/40 [==============================] - 0s 10ms/step - loss: 0.1222 - acc: 0.9889 - val_loss: 0.3756 - val_acc: 0.8234\n",
      "Epoch 8/20\n",
      "40/40 [==============================] - 0s 10ms/step - loss: 0.0822 - acc: 0.9928 - val_loss: 0.3743 - val_acc: 0.8138\n",
      "Epoch 9/20\n",
      "40/40 [==============================] - 0s 10ms/step - loss: 0.0564 - acc: 0.9952 - val_loss: 0.3416 - val_acc: 0.8329\n",
      "Epoch 10/20\n",
      "40/40 [==============================] - 0s 10ms/step - loss: 0.0389 - acc: 0.9968 - val_loss: 0.3320 - val_acc: 0.8353\n",
      "Epoch 11/20\n",
      "40/40 [==============================] - 0s 10ms/step - loss: 0.0279 - acc: 0.9976 - val_loss: 0.3589 - val_acc: 0.8258\n",
      "Epoch 12/20\n",
      "40/40 [==============================] - 0s 10ms/step - loss: 0.0213 - acc: 0.9968 - val_loss: 0.3381 - val_acc: 0.8425\n",
      "Epoch 13/20\n",
      "40/40 [==============================] - 0s 10ms/step - loss: 0.0163 - acc: 0.9984 - val_loss: 0.3209 - val_acc: 0.8449\n",
      "Epoch 14/20\n",
      "40/40 [==============================] - 0s 12ms/step - loss: 0.0132 - acc: 0.9984 - val_loss: 0.3386 - val_acc: 0.8425\n",
      "Epoch 15/20\n",
      "40/40 [==============================] - 0s 10ms/step - loss: 0.0108 - acc: 0.9984 - val_loss: 0.3212 - val_acc: 0.8520\n",
      "Epoch 16/20\n",
      "40/40 [==============================] - 0s 10ms/step - loss: 0.0091 - acc: 0.9984 - val_loss: 0.3211 - val_acc: 0.8544\n",
      "Epoch 17/20\n",
      "40/40 [==============================] - 0s 10ms/step - loss: 0.0076 - acc: 0.9984 - val_loss: 0.3030 - val_acc: 0.8640\n",
      "Epoch 18/20\n",
      "40/40 [==============================] - 0s 10ms/step - loss: 0.0065 - acc: 0.9984 - val_loss: 0.3110 - val_acc: 0.8616\n",
      "Epoch 19/20\n",
      "40/40 [==============================] - 0s 9ms/step - loss: 0.0055 - acc: 0.9984 - val_loss: 0.3126 - val_acc: 0.8616\n",
      "Epoch 20/20\n",
      "40/40 [==============================] - 0s 10ms/step - loss: 0.0047 - acc: 0.9984 - val_loss: 0.3122 - val_acc: 0.8616\n"
     ]
    }
   ],
   "source": [
    "history= model.fit(x_train,y_train,epochs=20,batch_size=32,validation_data=(x_valid,y_valid))"
   ]
  },
  {
   "cell_type": "code",
   "execution_count": 21,
   "id": "aa2b98ca-984d-4bfb-a552-57c5a35ea027",
   "metadata": {},
   "outputs": [
    {
     "data": {
      "image/png": "[encoded data removed]",
      "text/plain": [
       "<Figure size 640x480 with 1 Axes>"
      ]
     },
     "metadata": {},
     "output_type": "display_data"
    },
    {
     "data": {
      "image/png": "[encoded data removed]",
      "text/plain": [
       "<Figure size 640x480 with 1 Axes>"
      ]
     },
     "metadata": {},
     "output_type": "display_data"
    }
   ],
   "source": [
    "acc = history.history['acc']\n",
    "val_acc = history.history['val_acc']\n",
    "loss = history.history['loss']\n",
    "val_loss = history.history['val_loss']\n",
    "epochs = range(1, len(acc) + 1)\n",
    "plt.plot(epochs, acc, 'bo', label='Training acc')\n",
    "plt.plot(epochs, val_acc, 'b', label='Validation acc')\n",
    "plt.title('Training and validation accuracy')\n",
    "plt.legend()\n",
    "plt.figure()\n",
    "plt.plot(epochs, loss, 'bo', label='Training loss')\n",
    "plt.plot(epochs, val_loss, 'b', label='Validation loss')\n",
    "plt.title('Training and validation loss')\n",
    "plt.legend()\n",
    "plt.show()"
   ]
  },
  {
   "cell_type": "markdown",
   "id": "21f46014-e97d-4433-b15e-3df25c0d024b",
   "metadata": {},
   "source": [
    "## Testing Model"
   ]
  },
  {
   "cell_type": "code",
   "execution_count": 22,
   "id": "279cd643-0a32-42b1-b970-49bc00610646",
   "metadata": {},
   "outputs": [
    {
     "name": "stdout",
     "output_type": "stream",
     "text": [
      "14/14 [==============================] - 0s 4ms/step - loss: 0.3491 - acc: 0.8687\n"
     ]
    },
    {
     "data": {
      "text/plain": [
       "[0.3491125702857971, 0.8687350749969482]"
      ]
     },
     "execution_count": 22,
     "metadata": {},
     "output_type": "execute_result"
    }
   ],
   "source": [
    "model.evaluate(x_test,y_test)"
   ]
  },
  {
   "cell_type": "markdown",
   "id": "53cfda1a-fa2b-4c98-8f07-034d2d78a69f",
   "metadata": {},
   "source": [
    "### Using Glove.6B for Word Embedding"
   ]
  },
  {
   "cell_type": "code",
   "execution_count": 23,
   "id": "297bc551-e197-4a26-880f-b87dac9f2714",
   "metadata": {},
   "outputs": [
    {
     "name": "stdout",
     "output_type": "stream",
     "text": [
      "the: [-0.038194 -0.24487   0.72812  -0.39961   0.083172  0.043953 -0.39141\n",
      "  0.3344   -0.57545   0.087459  0.28787  -0.06731   0.30906  -0.26384\n",
      " -0.13231  -0.20757   0.33395  -0.33848  -0.31743  -0.48336   0.1464\n",
      " -0.37304   0.34577   0.052041  0.44946  -0.46971   0.02628  -0.54155\n",
      " -0.15518  -0.14107  -0.039722  0.28277   0.14393   0.23464  -0.31021\n",
      "  0.086173  0.20397   0.52624   0.17164  -0.082378 -0.71787  -0.41531\n",
      "  0.20335  -0.12763   0.41367   0.55187   0.57908  -0.33477  -0.36559\n",
      " -0.54857  -0.062892  0.26584   0.30205   0.99775  -0.80481  -3.0243\n",
      "  0.01254  -0.36942   2.2167    0.72201  -0.24978   0.92136   0.034514\n",
      "  0.46745   1.1079   -0.19358  -0.074575  0.23353  -0.052062 -0.22044\n",
      "  0.057162 -0.15806  -0.30798  -0.41625   0.37972   0.15006  -0.53212\n",
      " -0.2055   -1.2526    0.071624  0.70565   0.49744  -0.42063   0.26148\n",
      " -1.538    -0.30223  -0.073438 -0.28312   0.37104  -0.25217   0.016215\n",
      " -0.017099 -0.38984   0.87424  -0.72569  -0.51058  -0.52028  -0.1459\n",
      "  0.8278    0.27062 ]\n",
      ",: [-0.10767    0.11053    0.59812   -0.54361    0.67396    0.10663\n",
      "  0.038867   0.35481    0.06351   -0.094189   0.15786   -0.81665\n",
      "  0.14172    0.21939    0.58505   -0.52158    0.22783   -0.16642\n",
      " -0.68228    0.3587     0.42568    0.19021    0.91963    0.57555\n",
      "  0.46185    0.42363   -0.095399  -0.42749   -0.16567   -0.056842\n",
      " -0.29595    0.26037   -0.26606   -0.070404  -0.27662    0.15821\n",
      "  0.69825    0.43081    0.27952   -0.45437   -0.33801   -0.58184\n",
      "  0.22364   -0.5778    -0.26862   -0.20425    0.56394   -0.58524\n",
      " -0.14365   -0.64218    0.0054697 -0.35248    0.16162    1.1796\n",
      " -0.47674   -2.7553    -0.1321    -0.047729   1.0655     1.1034\n",
      " -0.2208     0.18669    0.13177    0.15117    0.7131    -0.35215\n",
      "  0.91348    0.61783    0.70992    0.23955   -0.14571   -0.37859\n",
      " -0.045959  -0.47368    0.2385     0.20536   -0.18996    0.32507\n",
      " -1.1112    -0.36341    0.98679   -0.084776  -0.54008    0.11726\n",
      " -1.0194    -0.24424    0.12771    0.013884   0.080374  -0.35414\n",
      "  0.34951   -0.7226     0.37549    0.4441    -0.99059    0.61214\n",
      " -0.35111   -0.83155    0.45293    0.082577 ]\n",
      ".: [-0.33979    0.20941    0.46348   -0.64792   -0.38377    0.038034\n",
      "  0.17127    0.15978    0.46619   -0.019169   0.41479   -0.34349\n",
      "  0.26872    0.04464    0.42131   -0.41032    0.15459    0.022239\n",
      " -0.64653    0.25256    0.043136  -0.19445    0.46516    0.45651\n",
      "  0.68588    0.091295   0.21875   -0.70351    0.16785   -0.35079\n",
      " -0.12634    0.66384   -0.2582     0.036542  -0.13605    0.40253\n",
      "  0.14289    0.38132   -0.12283   -0.45886   -0.25282   -0.30432\n",
      " -0.11215   -0.26182   -0.22482   -0.44554    0.2991    -0.85612\n",
      " -0.14503   -0.49086    0.0082973 -0.17491    0.27524    1.4401\n",
      " -0.21239   -2.8435    -0.27958   -0.45722    1.6386     0.78808\n",
      " -0.55262    0.65       0.086426   0.39012    1.0632    -0.35379\n",
      "  0.48328    0.346      0.84174    0.098707  -0.24213   -0.27053\n",
      "  0.045287  -0.40147    0.11395    0.0062226  0.036673   0.018518\n",
      " -1.0213    -0.20806    0.64072   -0.068763  -0.58635    0.33476\n",
      " -1.1432    -0.1148    -0.25091   -0.45907   -0.096819  -0.17946\n",
      " -0.063351  -0.67412   -0.068895   0.53604   -0.87773    0.31802\n",
      " -0.39242   -0.23394    0.47298   -0.028803 ]\n",
      "of: [-0.1529   -0.24279   0.89837   0.16996   0.53516   0.48784  -0.58826\n",
      " -0.17982  -1.3581    0.42541   0.15377   0.24215   0.13474   0.41193\n",
      "  0.67043  -0.56418   0.42985  -0.012183 -0.11677   0.31781   0.054177\n",
      " -0.054273  0.35516  -0.30241   0.31434  -0.33846   0.71715  -0.26855\n",
      " -0.15837  -0.47467   0.051581 -0.33252   0.15003  -0.1299   -0.54617\n",
      " -0.37843   0.64261   0.82187  -0.080006  0.078479 -0.96976  -0.57741\n",
      "  0.56491  -0.39873  -0.057099  0.19743   0.065706 -0.48092  -0.20125\n",
      " -0.40834   0.39456  -0.02642  -0.11838   1.012    -0.53171  -2.7474\n",
      " -0.042981 -0.74849   1.7574    0.59085   0.04885   0.78267   0.38497\n",
      "  0.42097   0.67882   0.10337   0.6328   -0.026595  0.58647  -0.44332\n",
      "  0.33057  -0.12022  -0.55645   0.073611  0.20915   0.43395  -0.012761\n",
      "  0.089874 -1.7991    0.084808  0.77112   0.63105  -0.90685   0.60326\n",
      " -1.7515    0.18596  -0.50687  -0.70203   0.66578  -0.81304   0.18712\n",
      " -0.018488 -0.26757   0.727    -0.59363  -0.34839  -0.56094  -0.591\n",
      "  1.0039    0.20664 ]\n",
      "to: [-1.8970e-01  5.0024e-02  1.9084e-01 -4.9184e-02 -8.9737e-02  2.1006e-01\n",
      " -5.4952e-01  9.8377e-02 -2.0135e-01  3.4241e-01 -9.2677e-02  1.6100e-01\n",
      " -1.3268e-01 -2.8160e-01  1.8737e-01 -4.2959e-01  9.6039e-01  1.3972e-01\n",
      " -1.0781e+00  4.0518e-01  5.0539e-01 -5.5064e-01  4.8440e-01  3.8044e-01\n",
      " -2.9055e-03 -3.4942e-01 -9.9696e-02 -7.8368e-01  1.0363e+00 -2.3140e-01\n",
      " -4.7121e-01  5.7126e-01 -2.1454e-01  3.5958e-01 -4.8319e-01  1.0875e+00\n",
      "  2.8524e-01  1.2447e-01 -3.9248e-02 -7.6732e-02 -7.6343e-01 -3.2409e-01\n",
      " -5.7490e-01 -1.0893e+00 -4.1811e-01  4.5120e-01  1.2112e-01 -5.1367e-01\n",
      " -1.3349e-01 -1.1378e+00 -2.8768e-01  1.6774e-01  5.5804e-01  1.5387e+00\n",
      "  1.8859e-02 -2.9721e+00 -2.4216e-01 -9.2495e-01  2.1992e+00  2.8234e-01\n",
      " -3.4780e-01  5.1621e-01 -4.3387e-01  3.6852e-01  7.4573e-01  7.2102e-02\n",
      "  2.7931e-01  9.2569e-01 -5.0336e-02 -8.5856e-01 -1.3580e-01 -9.2551e-01\n",
      " -3.3991e-01 -1.0394e+00 -6.7203e-02 -2.1379e-01 -4.7690e-01  2.1377e-01\n",
      " -8.4008e-01  5.2536e-02  5.9298e-01  2.9604e-01 -6.7644e-01  1.3916e-01\n",
      " -1.5504e+00 -2.0765e-01  7.2220e-01  5.2056e-01 -7.6221e-02 -1.5194e-01\n",
      " -1.3134e-01  5.8617e-02 -3.1869e-01 -6.1419e-01 -6.2393e-01 -4.1548e-01\n",
      " -3.8175e-02 -3.9804e-01  4.7647e-01 -1.5983e-01]\n"
     ]
    }
   ],
   "source": [
    "embedding = {}\n",
    "num_words = 10000\n",
    "embedding_dim = 100\n",
    "\n",
    "glove_dir = r'glove.6b/glove.6B.100d.txt'\n",
    "with open(glove_dir, 'r', encoding='utf-8') as file:\n",
    "    for line in file:\n",
    "        values = line.split()\n",
    "        word = values[0]\n",
    "        coef = np.array(values[1:], 'float32')\n",
    "        embedding[word] = coef\n",
    "\n",
    "for word, coef in list(embedding.items())[:5]:\n",
    "    print(f'{word}: {coef}')\n",
    "\n",
    "\n"
   ]
  },
  {
   "cell_type": "code",
   "execution_count": 24,
   "id": "319cf407-25d6-4d39-b2dc-33a0fa68ea7e",
   "metadata": {},
   "outputs": [
    {
     "name": "stdout",
     "output_type": "stream",
     "text": [
      "[[ 0.          0.          0.         ...  0.          0.\n",
      "   0.        ]\n",
      " [ 0.          0.          0.         ...  0.          0.\n",
      "   0.        ]\n",
      " [-0.15730999 -0.75502998  0.36844999 ... -0.54136997  0.67817003\n",
      "  -0.17251   ]\n",
      " ...\n",
      " [-0.97762001 -0.63091999 -0.35613999 ... -0.81704998  0.041152\n",
      "  -0.18785   ]\n",
      " [ 0.          0.          0.         ...  0.          0.\n",
      "   0.        ]\n",
      " [ 0.          0.          0.         ...  0.          0.\n",
      "   0.        ]]\n"
     ]
    }
   ],
   "source": [
    "embedding_matrix = np.zeros((num_words, embedding_dim))\n",
    "for word, i in word_index.items():\n",
    "    if i < num_words:\n",
    "        embedding_vector = embedding.get(word)\n",
    "        if embedding_vector is not None:\n",
    "            embedding_matrix[i] = embedding_vector\n",
    "print(embedding_matrix)\n"
   ]
  },
  {
   "cell_type": "code",
   "execution_count": 34,
   "id": "ddc287f4-de9f-4d59-a424-2a70240efe56",
   "metadata": {},
   "outputs": [
    {
     "name": "stdout",
     "output_type": "stream",
     "text": [
      "Model: \"sequential_3\"\n",
      "_________________________________________________________________\n",
      " Layer (type)                Output Shape              Param #   \n",
      "=================================================================\n",
      " embedding_3 (Embedding)     (None, 1000, 100)         1000000   \n",
      "                                                                 \n",
      " flatten_2 (Flatten)         (None, 100000)            0         \n",
      "                                                                 \n",
      " dense_7 (Dense)             (None, 32)                3200032   \n",
      "                                                                 \n",
      " dense_8 (Dense)             (None, 1)                 33        \n",
      "                                                                 \n",
      "=================================================================\n",
      "Total params: 4200065 (16.02 MB)\n",
      "Trainable params: 4200065 (16.02 MB)\n",
      "Non-trainable params: 0 (0.00 Byte)\n",
      "_________________________________________________________________\n"
     ]
    }
   ],
   "source": [
    "model = models.Sequential()\n",
    "model.add(layers.Embedding(num_words, embedding_dim, input_length=max_len))\n",
    "model.add(layers.Flatten())\n",
    "model.add(layers.Dense(32, activation='relu'))\n",
    "model.add(layers.Dense(1, activation='sigmoid'))\n",
    "model.summary()"
   ]
  },
  {
   "cell_type": "code",
   "execution_count": 35,
   "id": "3ee28510-44c1-4ba1-ab98-8f7702c068f8",
   "metadata": {},
   "outputs": [],
   "source": [
    "model.layers[0].set_weights([embedding_matrix])\n",
    "model.layers[0].trainable = False"
   ]
  },
  {
   "cell_type": "code",
   "execution_count": 36,
   "id": "705f4b60-0554-4246-9f88-a7283d5980ec",
   "metadata": {},
   "outputs": [],
   "source": [
    "model.compile(optimizer='rmsprop',loss='binary_crossentropy',metrics=['acc'])"
   ]
  },
  {
   "cell_type": "code",
   "execution_count": 37,
   "id": "674917ba-d1fd-42f2-933c-884f33f759dd",
   "metadata": {},
   "outputs": [],
   "source": [
    "checkpoint_callback = ModelCheckpoint('./Saved_Models/Sentiment Analysis.h5', monitor='val_acc', save_best_only=True, mode='max')"
   ]
  },
  {
   "cell_type": "code",
   "execution_count": 38,
   "id": "0c28a5b7-fdea-423b-8d28-db6d8da8e705",
   "metadata": {},
   "outputs": [
    {
     "name": "stdout",
     "output_type": "stream",
     "text": [
      "Epoch 1/20\n",
      "40/40 [==============================] - 3s 55ms/step - loss: 0.7383 - acc: 0.6523 - val_loss: 0.8483 - val_acc: 0.6158\n",
      "Epoch 2/20\n",
      "40/40 [==============================] - 2s 44ms/step - loss: 0.3610 - acc: 0.8377 - val_loss: 0.7096 - val_acc: 0.5990\n",
      "Epoch 3/20\n",
      "40/40 [==============================] - 2s 49ms/step - loss: 0.1183 - acc: 0.9698 - val_loss: 0.6384 - val_acc: 0.6969\n",
      "Epoch 4/20\n",
      "40/40 [==============================] - 2s 45ms/step - loss: 0.0336 - acc: 0.9936 - val_loss: 1.7043 - val_acc: 0.6659\n",
      "Epoch 5/20\n",
      "40/40 [==============================] - 2s 44ms/step - loss: 0.0318 - acc: 0.9984 - val_loss: 1.1680 - val_acc: 0.6635\n",
      "Epoch 6/20\n",
      "40/40 [==============================] - 2s 44ms/step - loss: 0.0050 - acc: 0.9984 - val_loss: 0.8850 - val_acc: 0.6826\n",
      "Epoch 7/20\n",
      "40/40 [==============================] - 2s 44ms/step - loss: 0.0024 - acc: 0.9992 - val_loss: 0.9389 - val_acc: 0.6874\n",
      "Epoch 8/20\n",
      "40/40 [==============================] - 2s 44ms/step - loss: 0.0017 - acc: 0.9992 - val_loss: 0.9785 - val_acc: 0.6897\n",
      "Epoch 9/20\n",
      "40/40 [==============================] - 2s 48ms/step - loss: 0.0015 - acc: 0.9992 - val_loss: 1.0574 - val_acc: 0.6874\n",
      "Epoch 10/20\n",
      "40/40 [==============================] - 2s 42ms/step - loss: 0.0013 - acc: 0.9992 - val_loss: 1.1014 - val_acc: 0.6874\n",
      "Epoch 11/20\n",
      "40/40 [==============================] - 2s 43ms/step - loss: 0.0012 - acc: 0.9992 - val_loss: 1.1415 - val_acc: 0.6826\n",
      "Epoch 12/20\n",
      "40/40 [==============================] - 2s 42ms/step - loss: 0.0012 - acc: 0.9992 - val_loss: 1.1557 - val_acc: 0.6897\n",
      "Epoch 13/20\n",
      "40/40 [==============================] - 2s 43ms/step - loss: 0.0012 - acc: 0.9992 - val_loss: 1.1756 - val_acc: 0.6897\n",
      "Epoch 14/20\n",
      "40/40 [==============================] - 2s 42ms/step - loss: 0.0012 - acc: 0.9992 - val_loss: 1.1979 - val_acc: 0.6897\n",
      "Epoch 15/20\n",
      "40/40 [==============================] - 2s 41ms/step - loss: 0.0012 - acc: 0.9992 - val_loss: 1.2280 - val_acc: 0.6874\n",
      "Epoch 16/20\n",
      "40/40 [==============================] - 2s 42ms/step - loss: 0.0012 - acc: 0.9992 - val_loss: 1.2323 - val_acc: 0.6897\n",
      "Epoch 17/20\n",
      "40/40 [==============================] - 2s 45ms/step - loss: 0.0011 - acc: 0.9992 - val_loss: 1.2548 - val_acc: 0.6897\n",
      "Epoch 18/20\n",
      "40/40 [==============================] - 2s 47ms/step - loss: 0.0011 - acc: 0.9992 - val_loss: 1.2737 - val_acc: 0.6850\n",
      "Epoch 19/20\n",
      "40/40 [==============================] - 2s 48ms/step - loss: 0.0011 - acc: 0.9992 - val_loss: 1.2790 - val_acc: 0.6897\n",
      "Epoch 20/20\n",
      "40/40 [==============================] - 2s 45ms/step - loss: 0.0011 - acc: 0.9992 - val_loss: 1.2881 - val_acc: 0.6897\n"
     ]
    }
   ],
   "source": [
    "history = model.fit(x_train, y_train,epochs=20,batch_size=32,validation_data=(x_valid, y_valid),callbacks=[checkpoint_callback])"
   ]
  },
  {
   "cell_type": "code",
   "execution_count": 39,
   "id": "232e8df8-0d96-49eb-b7c6-6e723610aee8",
   "metadata": {},
   "outputs": [],
   "source": [
    "num_words = 10000"
   ]
  },
  {
   "cell_type": "code",
   "execution_count": 40,
   "id": "e4087d0c-0c01-48d2-919a-60d719818763",
   "metadata": {},
   "outputs": [
    {
     "name": "stdout",
     "output_type": "stream",
     "text": [
      "Model: \"sequential_4\"\n",
      "_________________________________________________________________\n",
      " Layer (type)                Output Shape              Param #   \n",
      "=================================================================\n",
      " embedding_4 (Embedding)     (None, 1000, 100)         1000000   \n",
      "                                                                 \n",
      " simple_rnn_2 (SimpleRNN)    (None, 1000, 128)         29312     \n",
      "                                                                 \n",
      " simple_rnn_3 (SimpleRNN)    (None, 64)                12352     \n",
      "                                                                 \n",
      " batch_normalization_1 (Bat  (None, 64)                256       \n",
      " chNormalization)                                                \n",
      "                                                                 \n",
      " dense_9 (Dense)             (None, 64)                4160      \n",
      "                                                                 \n",
      " dropout_1 (Dropout)         (None, 64)                0         \n",
      "                                                                 \n",
      " dense_10 (Dense)            (None, 32)                2080      \n",
      "                                                                 \n",
      " dense_11 (Dense)            (None, 16)                528       \n",
      "                                                                 \n",
      " dense_12 (Dense)            (None, 1)                 17        \n",
      "                                                                 \n",
      "=================================================================\n",
      "Total params: 1048705 (4.00 MB)\n",
      "Trainable params: 1048577 (4.00 MB)\n",
      "Non-trainable params: 128 (512.00 Byte)\n",
      "_________________________________________________________________\n"
     ]
    }
   ],
   "source": [
    "\n",
    "model = models.Sequential()\n",
    "\n",
    "model.add(layers.Embedding(10000,100,input_length=max_len))\n",
    "\n",
    "model.add(layers.SimpleRNN(128, return_sequences=True))\n",
    "model.add(layers.SimpleRNN(64))\n",
    "\n",
    "model.add(layers.BatchNormalization())\n",
    "\n",
    "model.add(layers.Dense(64, activation='relu', kernel_regularizer=regularizers.l2(0.001)))\n",
    "model.add(layers.Dropout(0.5))\n",
    "model.add(layers.Dense(32, activation='relu', kernel_regularizer=regularizers.l2(0.001)))\n",
    "model.add(layers.Dense(16, activation='relu'))\n",
    "model.add(layers.Dense(1, activation='sigmoid'))\n",
    "\n",
    "\n",
    "model.compile(optimizer='rmsprop', loss='binary_crossentropy', metrics=['acc'])\n",
    "\n",
    "\n",
    "model.summary()"
   ]
  },
  {
   "cell_type": "code",
   "execution_count": 41,
   "id": "17b02858-01ea-49e2-86e7-bec602ecb010",
   "metadata": {},
   "outputs": [],
   "source": [
    "model.layers[0].set_weights([embedding_matrix])\n",
    "model.layers[0].trainable = False"
   ]
  },
  {
   "cell_type": "code",
   "execution_count": 42,
   "id": "f3ebaeee-f4bd-4234-99e2-fd266cd8e752",
   "metadata": {},
   "outputs": [
    {
     "name": "stdout",
     "output_type": "stream",
     "text": [
      "Epoch 1/30\n",
      "40/40 [==============================] - 38s 888ms/step - loss: 0.7930 - acc: 0.6213 - val_loss: 0.7832 - val_acc: 0.6229\n",
      "Epoch 2/30\n",
      "40/40 [==============================] - 36s 892ms/step - loss: 0.7992 - acc: 0.5998 - val_loss: 0.7824 - val_acc: 0.6014\n",
      "Epoch 3/30\n",
      "40/40 [==============================] - 42s 1s/step - loss: 0.7804 - acc: 0.6062 - val_loss: 0.7722 - val_acc: 0.6110\n",
      "Epoch 4/30\n",
      "40/40 [==============================] - 47s 1s/step - loss: 0.7737 - acc: 0.6126 - val_loss: 0.7663 - val_acc: 0.6110\n"
     ]
    }
   ],
   "source": [
    "checkpoint_callback = ModelCheckpoint('./Saved_Models/Sentiment Analysis.h5', monitor='val_acc', save_best_only=True, mode='max')\n",
    "early_stopping = EarlyStopping(monitor='val_acc', patience=3, restore_best_weights=True)\n",
    "\n",
    "history = model.fit(x_train, y_train,epochs=30,batch_size=32,validation_data=(x_valid, y_valid),callbacks=[early_stopping,checkpoint_callback])"
   ]
  },
  {
   "cell_type": "code",
   "execution_count": 43,
   "id": "cd5b3189-f446-4032-b33a-8a7c35ee00d8",
   "metadata": {},
   "outputs": [
    {
     "data": {
      "image/png": "[encoded data removed]",
      "text/plain": [
       "<Figure size 640x480 with 1 Axes>"
      ]
     },
     "metadata": {},
     "output_type": "display_data"
    },
    {
     "data": {
      "image/png": "[encoded data removed]",
      "text/plain": [
       "<Figure size 640x480 with 1 Axes>"
      ]
     },
     "metadata": {},
     "output_type": "display_data"
    }
   ],
   "source": [
    "acc = history.history['acc']\n",
    "val_acc = history.history['val_acc']\n",
    "loss = history.history['loss']\n",
    "val_loss = history.history['val_loss']\n",
    "epochs = range(1, len(acc) + 1)\n",
    "plt.plot(epochs, acc, 'bo', label='Training acc')\n",
    "plt.plot(epochs, val_acc, 'b', label='Validation acc')\n",
    "plt.title('Training and validation accuracy')\n",
    "plt.legend()\n",
    "plt.figure()\n",
    "plt.plot(epochs, loss, 'bo', label='Training loss')\n",
    "plt.plot(epochs, val_loss, 'b', label='Validation loss')\n",
    "plt.title('Training and validation loss')\n",
    "plt.legend()\n",
    "plt.show()"
   ]
  },
  {
   "cell_type": "code",
   "execution_count": 44,
   "id": "54a1cd6f-ce1a-443e-9b59-bf0fb2b7e2e1",
   "metadata": {},
   "outputs": [
    {
     "name": "stdout",
     "output_type": "stream",
     "text": [
      "Model: \"sequential_5\"\n",
      "_________________________________________________________________\n",
      " Layer (type)                Output Shape              Param #   \n",
      "=================================================================\n",
      " embedding_5 (Embedding)     (None, 1000, 100)         1000000   \n",
      "                                                                 \n",
      " lstm (LSTM)                 (None, 32)                17024     \n",
      "                                                                 \n",
      " dense_13 (Dense)            (None, 1)                 33        \n",
      "                                                                 \n",
      "=================================================================\n",
      "Total params: 1017057 (3.88 MB)\n",
      "Trainable params: 1017057 (3.88 MB)\n",
      "Non-trainable params: 0 (0.00 Byte)\n",
      "_________________________________________________________________\n"
     ]
    }
   ],
   "source": [
    "model = models.Sequential()\n",
    "model.add(layers.Embedding(10000,100,input_length=max_len))\n",
    "model.add(layers.LSTM(32))\n",
    "model.add(layers.Dense(1,activation='sigmoid'))\n",
    "model.compile(optimizer= optimizers.RMSprop(),loss='binary_crossentropy',metrics = ['acc'])\n",
    "model.summary()"
   ]
  },
  {
   "cell_type": "code",
   "execution_count": 45,
   "id": "44a63aeb-ca41-43c4-bd08-4fb77798769e",
   "metadata": {},
   "outputs": [],
   "source": [
    "model.layers[0].set_weights([embedding_matrix])\n",
    "model.layers[0].trainable = False"
   ]
  },
  {
   "cell_type": "code",
   "execution_count": 46,
   "id": "972248db-168a-4eca-a2c6-d4c9dc1361a0",
   "metadata": {},
   "outputs": [
    {
     "name": "stdout",
     "output_type": "stream",
     "text": [
      "Epoch 1/30\n",
      "32/32 [==============================] - 34s 962ms/step - loss: 0.6719 - acc: 0.6030 - val_loss: 0.6467 - val_acc: 0.6706\n",
      "Epoch 2/30\n",
      "32/32 [==============================] - 29s 909ms/step - loss: 0.6665 - acc: 0.6159 - val_loss: 0.6468 - val_acc: 0.6746\n",
      "Epoch 3/30\n",
      "32/32 [==============================] - 27s 841ms/step - loss: 0.6652 - acc: 0.6209 - val_loss: 0.6479 - val_acc: 0.6706\n",
      "Epoch 4/30\n",
      "32/32 [==============================] - 30s 944ms/step - loss: 0.6646 - acc: 0.6199 - val_loss: 0.6449 - val_acc: 0.6706\n",
      "Epoch 5/30\n",
      "32/32 [==============================] - 28s 878ms/step - loss: 0.6630 - acc: 0.6249 - val_loss: 0.6438 - val_acc: 0.6706\n"
     ]
    }
   ],
   "source": [
    "checkpoint_callback = ModelCheckpoint('./content/drive/MyDrive/Saved_Models/Sentiment Analysis.h5', monitor='val_acc', save_best_only=True, mode='max')\n",
    "early_stopping = EarlyStopping(monitor='val_acc', patience=3, restore_best_weights=True)\n",
    "\n",
    "history = model.fit(x_train, y_train,epochs=30,batch_size=32,validation_split=0.2,callbacks=[early_stopping,checkpoint_callback])"
   ]
  },
  {
   "cell_type": "code",
   "execution_count": 47,
   "id": "d8bbb0f0-fb43-4cdd-8c7b-db37f240753a",
   "metadata": {},
   "outputs": [],
   "source": [
    "checkpoint_callback = ModelCheckpoint('./content/drive/MyDrive/Saved_Models/Sentiment Analysis.h5', monitor='val_acc', save_best_only=True, mode='max')\n",
    "early_stopping = EarlyStopping(monitor='val_acc', patience=3, restore_best_weights=True)"
   ]
  },
  {
   "cell_type": "code",
   "execution_count": 48,
   "id": "687384f8-2af4-4f11-a136-39acd9d5b803",
   "metadata": {},
   "outputs": [
    {
     "name": "stdout",
     "output_type": "stream",
     "text": [
      "Model: \"sequential_6\"\n",
      "_________________________________________________________________\n",
      " Layer (type)                Output Shape              Param #   \n",
      "=================================================================\n",
      " embedding_6 (Embedding)     (None, 1000, 128)         1280000   \n",
      "                                                                 \n",
      " bidirectional (Bidirection  (None, 1000, 128)         98816     \n",
      " al)                                                             \n",
      "                                                                 \n",
      " dropout_2 (Dropout)         (None, 1000, 128)         0         \n",
      "                                                                 \n",
      " conv1d (Conv1D)             (None, 996, 64)           41024     \n",
      "                                                                 \n",
      " global_max_pooling1d (Glob  (None, 64)                0         \n",
      " alMaxPooling1D)                                                 \n",
      "                                                                 \n",
      " dense_14 (Dense)            (None, 64)                4160      \n",
      "                                                                 \n",
      " dropout_3 (Dropout)         (None, 64)                0         \n",
      "                                                                 \n",
      " dense_15 (Dense)            (None, 1)                 65        \n",
      "                                                                 \n",
      "=================================================================\n",
      "Total params: 1424065 (5.43 MB)\n",
      "Trainable params: 1424065 (5.43 MB)\n",
      "Non-trainable params: 0 (0.00 Byte)\n",
      "_________________________________________________________________\n"
     ]
    }
   ],
   "source": [
    "model = models.Sequential()\n",
    "model.add(layers.Embedding(max_features, 128, input_length=max_len))\n",
    "model.add(layers.Bidirectional(layers.LSTM(64, return_sequences=True)))\n",
    "model.add(layers.Dropout(0.5))\n",
    "model.add(layers.Conv1D(64, kernel_size=5, activation='relu'))\n",
    "model.add(layers.GlobalMaxPooling1D())\n",
    "model.add(layers.Dense(64, activation='relu'))\n",
    "model.add(layers.Dropout(0.5))\n",
    "model.add(layers.Dense(1, activation='sigmoid'))\n",
    "\n",
    "model.compile(optimizer='adam', loss='binary_crossentropy', metrics=['acc'])\n",
    "\n",
    "model.summary()"
   ]
  },
  {
   "cell_type": "code",
   "execution_count": 49,
   "id": "a5de9674-34fb-46b4-8ea4-156336cc54a7",
   "metadata": {},
   "outputs": [
    {
     "name": "stdout",
     "output_type": "stream",
     "text": [
      "Epoch 1/20\n",
      "40/40 [==============================] - 131s 3s/step - loss: 0.6693 - acc: 0.6197 - val_loss: 0.6717 - val_acc: 0.6110\n",
      "Epoch 2/20\n",
      "40/40 [==============================] - 124s 3s/step - loss: 0.6517 - acc: 0.6301 - val_loss: 0.6227 - val_acc: 0.6921\n",
      "Epoch 3/20\n",
      "40/40 [==============================] - 107s 3s/step - loss: 0.3359 - acc: 0.8910 - val_loss: 0.1383 - val_acc: 0.9666\n",
      "Epoch 4/20\n",
      "40/40 [==============================] - 119s 3s/step - loss: 0.0747 - acc: 0.9857 - val_loss: 0.1426 - val_acc: 0.9570\n",
      "Epoch 5/20\n",
      "40/40 [==============================] - 120s 3s/step - loss: 0.0359 - acc: 0.9920 - val_loss: 0.1625 - val_acc: 0.9547\n",
      "Epoch 6/20\n",
      "40/40 [==============================] - 107s 3s/step - loss: 0.0238 - acc: 0.9944 - val_loss: 0.1625 - val_acc: 0.9666\n"
     ]
    }
   ],
   "source": [
    "history = model.fit(x_train,y_train,epochs=20,batch_size=32,validation_data=(x_valid, y_valid),callbacks=[early_stopping,checkpoint_callback])\n"
   ]
  },
  {
   "cell_type": "code",
   "execution_count": 50,
   "id": "b8c0b66f-ff43-4f8c-b8d6-12510513914f",
   "metadata": {},
   "outputs": [
    {
     "data": {
      "image/png": "[encoded data removed]",
      "text/plain": [
       "<Figure size 640x480 with 1 Axes>"
      ]
     },
     "metadata": {},
     "output_type": "display_data"
    },
    {
     "data": {
      "image/png": "[encoded data removed]",
      "text/plain": [
       "<Figure size 640x480 with 1 Axes>"
      ]
     },
     "metadata": {},
     "output_type": "display_data"
    }
   ],
   "source": [
    "acc = history.history['acc']\n",
    "val_acc = history.history['val_acc']\n",
    "loss = history.history['loss']\n",
    "val_loss = history.history['val_loss']\n",
    "epochs = range(1, len(acc) + 1)\n",
    "plt.plot(epochs, acc, 'bo', label='Training acc')\n",
    "plt.plot(epochs, val_acc, 'b', label='Validation acc')\n",
    "plt.title('Training and validation accuracy')\n",
    "plt.legend()\n",
    "plt.figure()\n",
    "plt.plot(epochs, loss, 'bo', label='Training loss')\n",
    "plt.plot(epochs, val_loss, 'b', label='Validation loss')\n",
    "plt.title('Training and validation loss')\n",
    "plt.legend()\n",
    "plt.show()"
   ]
  },
  {
   "cell_type": "markdown",
   "id": "dfd33b3a-3152-45a7-af3c-f07762073713",
   "metadata": {},
   "source": [
    "## Testing Model"
   ]
  },
  {
   "cell_type": "code",
   "execution_count": 51,
   "id": "e83d71cb-b7a3-4a22-9fb3-8b32856e02e3",
   "metadata": {},
   "outputs": [
    {
     "name": "stdout",
     "output_type": "stream",
     "text": [
      "14/14 [==============================] - 7s 489ms/step - loss: 0.0857 - acc: 0.9905\n"
     ]
    },
    {
     "data": {
      "text/plain": [
       "[0.08574491739273071, 0.9904534816741943]"
      ]
     },
     "execution_count": 51,
     "metadata": {},
     "output_type": "execute_result"
    }
   ],
   "source": [
    "model.evaluate(x_test,y_test)"
   ]
  },
  {
   "cell_type": "code",
   "execution_count": 54,
   "id": "60c98ef7-3bd3-486b-b6db-5c85c2429359",
   "metadata": {},
   "outputs": [
    {
     "name": "stderr",
     "output_type": "stream",
     "text": [
      "/home/hassan-ahmed-khan/anaconda3/lib/python3.11/site-packages/keras/src/engine/training.py:3103: UserWarning: You are saving your model as an HDF5 file via `model.save()`. This file format is considered legacy. We recommend using instead the native Keras format, e.g. `model.save('my_model.keras')`.\n",
      "  saving_api.save_model(\n"
     ]
    }
   ],
   "source": [
    "model.save(\"Fake_News_Detector.h5\")"
   ]
  },
  {
   "cell_type": "markdown",
   "id": "90a39f07-70f6-4cc5-8596-d2083e796006",
   "metadata": {},
   "source": [
    "## Model Prediction"
   ]
  },
  {
   "cell_type": "code",
   "execution_count": 63,
   "id": "073e5a60-24e9-4bbe-ba9a-940e847a6596",
   "metadata": {},
   "outputs": [
    {
     "name": "stdout",
     "output_type": "stream",
     "text": [
      "1/1 [==============================] - 0s 308ms/step\n",
      "Orignal lable =  Fake\n",
      "Model Prediction =  Fake\n",
      "1/1 [==============================] - 0s 439ms/step\n",
      "Orignal lable =  Real\n",
      "Model Prediction =  Real\n",
      "1/1 [==============================] - 0s 294ms/step\n",
      "Orignal lable =  Real\n",
      "Model Prediction =  Real\n",
      "1/1 [==============================] - 0s 364ms/step\n",
      "Orignal lable =  Real\n",
      "Model Prediction =  Real\n",
      "1/1 [==============================] - 0s 370ms/step\n",
      "Orignal lable =  Real\n",
      "Model Prediction =  Real\n",
      "1/1 [==============================] - 0s 343ms/step\n",
      "Orignal lable =  Fake\n",
      "Model Prediction =  Fake\n",
      "1/1 [==============================] - 0s 286ms/step\n",
      "Orignal lable =  Real\n",
      "Model Prediction =  Real\n",
      "1/1 [==============================] - 0s 409ms/step\n",
      "Orignal lable =  Fake\n",
      "Model Prediction =  Fake\n",
      "1/1 [==============================] - 0s 321ms/step\n",
      "Orignal lable =  Fake\n",
      "Model Prediction =  Fake\n",
      "1/1 [==============================] - 0s 363ms/step\n",
      "Orignal lable =  Fake\n",
      "Model Prediction =  Fake\n",
      "1/1 [==============================] - 0s 362ms/step\n",
      "Orignal lable =  Fake\n",
      "Model Prediction =  Fake\n",
      "1/1 [==============================] - 0s 389ms/step\n",
      "Orignal lable =  Fake\n",
      "Model Prediction =  Fake\n",
      "1/1 [==============================] - 0s 349ms/step\n",
      "Orignal lable =  Real\n",
      "Model Prediction =  Real\n",
      "1/1 [==============================] - 0s 391ms/step\n",
      "Orignal lable =  Fake\n",
      "Model Prediction =  Fake\n",
      "1/1 [==============================] - 0s 319ms/step\n",
      "Orignal lable =  Real\n",
      "Model Prediction =  Real\n",
      "1/1 [==============================] - 0s 327ms/step\n",
      "Orignal lable =  Fake\n",
      "Model Prediction =  Fake\n",
      "1/1 [==============================] - 0s 394ms/step\n",
      "Orignal lable =  Fake\n",
      "Model Prediction =  Fake\n",
      "1/1 [==============================] - 0s 424ms/step\n",
      "Orignal lable =  Real\n",
      "Model Prediction =  Real\n",
      "1/1 [==============================] - 0s 287ms/step\n",
      "Orignal lable =  Fake\n",
      "Model Prediction =  Fake\n",
      "1/1 [==============================] - 1s 557ms/step\n",
      "Orignal lable =  Fake\n",
      "Model Prediction =  Fake\n"
     ]
    }
   ],
   "source": [
    "import numpy as np\n",
    "\n",
    "for i in range(20):\n",
    "\n",
    "    x_test_reshaped = np.expand_dims(x_test[i], axis=0)\n",
    "    \n",
    "    # Now predict\n",
    "    prediction = model.predict(x_test_reshaped)\n",
    "    if(y_test[i] == 1):\n",
    "        print(\"Orignal lable = \",\"Real\")\n",
    "    else:\n",
    "        print(\"Orignal lable = \",\"Fake\")\n",
    "        \n",
    "    if(prediction > 0.5):\n",
    "        print(\"Model Prediction = \",\"Real\")\n",
    "    else:\n",
    "        print(\"Model Prediction = \",\"Fake\")\n",
    "# print(prediction)"
   ]
  },
  {
   "cell_type": "code",
   "execution_count": null,
   "id": "a1d1b9e0-ad4a-4c2d-b108-d9c8ee3727f4",
   "metadata": {},
   "outputs": [],
   "source": []
  }
 ],
 "metadata": {
  "kernelspec": {
   "display_name": "Python 3 (ipykernel)",
   "language": "python",
   "name": "python3"
  },
  "language_info": {
   "codemirror_mode": {
    "name": "ipython",
    "version": 3
   },
   "file_extension": ".py",
   "mimetype": "text/x-python",
   "name": "python",
   "nbconvert_exporter": "python",
   "pygments_lexer": "ipython3",
   "version": "3.11.6"
  }
 },
 "nbformat": 4,
 "nbformat_minor": 5
}
